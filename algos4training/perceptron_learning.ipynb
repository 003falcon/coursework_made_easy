{
  "nbformat": 4,
  "nbformat_minor": 0,
  "metadata": {
    "colab": {
      "provenance": [],
      "authorship_tag": "ABX9TyMflBPfaL4/vayHjtsLYZVY",
      "include_colab_link": true
    },
    "kernelspec": {
      "name": "python3",
      "display_name": "Python 3"
    },
    "language_info": {
      "name": "python"
    }
  },
  "cells": [
    {
      "cell_type": "markdown",
      "metadata": {
        "id": "view-in-github",
        "colab_type": "text"
      },
      "source": [
        "<a href=\"https://colab.research.google.com/github/003falcon/coursework_made_easy/blob/main/algos4training/perceptron_learning.ipynb\" target=\"_parent\"><img src=\"https://colab.research.google.com/assets/colab-badge.svg\" alt=\"Open In Colab\"/></a>"
      ]
    },
    {
      "cell_type": "markdown",
      "source": [
        "###Using signum activation function\n"
      ],
      "metadata": {
        "id": "us-j50NIVVVG"
      }
    },
    {
      "cell_type": "code",
      "source": [
        "def signum(x):\n",
        "  return np.where(x>=0,1,-1)"
      ],
      "metadata": {
        "id": "ivlD_BoRZ2QN"
      },
      "execution_count": 41,
      "outputs": []
    },
    {
      "cell_type": "code",
      "execution_count": 56,
      "metadata": {
        "colab": {
          "base_uri": "https://localhost:8080/"
        },
        "id": "A11M5liaYOvX",
        "outputId": "d34e8787-5449-4d63-b135-d8efec3392a7"
      },
      "outputs": [
        {
          "output_type": "stream",
          "name": "stdout",
          "text": [
            "iteration 1\n",
            "\n",
            "pattern 1\n",
            "[[ 0.8]\n",
            " [-0.6]\n",
            " [ 0. ]\n",
            " [ 0.3]]\n",
            "\n",
            "pattern 2\n",
            "[[ 0.8]\n",
            " [-0.6]\n",
            " [ 0. ]\n",
            " [ 0.3]]\n",
            "\n",
            "pattern 3\n",
            "[[ 0.6]\n",
            " [-0.4]\n",
            " [ 0.1]\n",
            " [ 0.1]]\n",
            "\n",
            "iteration 2\n",
            "\n",
            "pattern 1\n",
            "[[ 0.4]\n",
            " [ 0. ]\n",
            " [ 0.1]\n",
            " [-0.1]]\n",
            "\n",
            "pattern 2\n",
            "[[ 0.4]\n",
            " [-0.3]\n",
            " [ 0.2]\n",
            " [ 0.1]]\n",
            "\n",
            "pattern 3\n",
            "[[ 0.2]\n",
            " [-0.1]\n",
            " [ 0.3]\n",
            " [-0.1]]\n",
            "\n",
            "Final weights [[ 0.2]\n",
            " [-0.1]\n",
            " [ 0.3]\n",
            " [-0.1]]\n"
          ]
        }
      ],
      "source": [
        "import numpy as np\n",
        "\n",
        "X1=np.array([1,-2,0,1]).reshape(-1,1)\n",
        "X2=np.array([0,1.5,-0.5,-1]).reshape(-1,1)\n",
        "X3=np.array([-1,1,0.5,-1]).reshape(-1,1)\n",
        "X=np.array([X1,X2,X3])\n",
        "# X1.resize(4,1)\n",
        "# X1.shape\n",
        "# X\n",
        "d=[-1,-1,1]\n",
        "lr=0.1\n",
        "w=np.array([1,-1,0,0.5]).reshape(-1,1)\n",
        "iter=2\n",
        "for i in range(iter):\n",
        "  print(f\"iteration {i+1}\\n\")\n",
        "  for j in range(X.shape[0]):\n",
        "    print(f\"pattern {j+1}\")\n",
        "    o1=np.round(w.T.dot(X[j]),4)\n",
        "    # print(o1[0][0])\n",
        "    error=np.round(d[j]-signum(o1[0][0]),4)\n",
        "    # print(f\"error: {error}\")\n",
        "    del_w=np.round(lr*error*X[j],4)\n",
        "    w_new=w+del_w\n",
        "    w=np.round(w_new,4)\n",
        "    print(w)\n",
        "    print()\n",
        "print(f\"Final weights {w}\")"
      ]
    },
    {
      "cell_type": "markdown",
      "source": [
        "###Using sigmoid activation function"
      ],
      "metadata": {
        "id": "uK3wJ4K9VPG-"
      }
    },
    {
      "cell_type": "code",
      "source": [],
      "metadata": {
        "id": "qRNcsxZpYjko"
      },
      "execution_count": 35,
      "outputs": []
    },
    {
      "cell_type": "code",
      "source": [
        "def sigmoid(x):\n",
        "  return 1/(1+np.exp(-x))"
      ],
      "metadata": {
        "id": "veww6icQZWgi"
      },
      "execution_count": 3,
      "outputs": []
    },
    {
      "cell_type": "code",
      "source": [
        "import numpy as np\n",
        "\n",
        "X1=np.array([-0.25,0.1,-0.2]).reshape(-1,1)\n",
        "X2=np.array([0.15,-0.3,0.1]).reshape(-1,1)\n",
        "X=np.array([X1,X2])\n",
        "\n",
        "d=[0.95,0.9]\n",
        "lr=0.5\n",
        "w=np.array([-0.3,0.2,-0.1]).reshape(-1,1)\n",
        "iter=2\n",
        "for i in range(iter):\n",
        "  print(f\"iteration {i+1}\\n\")\n",
        "  for j in range(X.shape[0]):\n",
        "    print(f\"pattern {j+1}\")\n",
        "    net1=np.round(w.T.dot(X[j]),5)\n",
        "    print(net1[0][0])\n",
        "    o1=sigmoid(net1[0][0])\n",
        "    o1_deriv=o1*(1-o1)\n",
        "    error=np.round(d[j]-o1,5)\n",
        "    print(f\"error: {error}\")\n",
        "    del_w=lr*error*X[j]*o1_deriv\n",
        "    w_new=w+del_w\n",
        "    w=np.round(w_new,4)\n",
        "    print(w)\n",
        "    print()\n",
        "print(f\"Final weights {w}\")"
      ],
      "metadata": {
        "colab": {
          "base_uri": "https://localhost:8080/"
        },
        "id": "sPxRE93Jbcs3",
        "outputId": "46772538-6892-4f5c-88a6-189ba42383f6"
      },
      "execution_count": 6,
      "outputs": [
        {
          "output_type": "stream",
          "name": "stdout",
          "text": [
            "iteration 1\n",
            "\n",
            "pattern 1\n",
            "0.115\n",
            "error: 0.42128\n",
            "[[-0.3131]\n",
            " [ 0.2052]\n",
            " [-0.1105]]\n",
            "\n",
            "pattern 2\n",
            "-0.11958\n",
            "error: 0.42986\n",
            "[[-0.3051]\n",
            " [ 0.1891]\n",
            " [-0.1051]]\n",
            "\n",
            "iteration 2\n",
            "\n",
            "pattern 1\n",
            "0.1162\n",
            "error: 0.42098\n",
            "[[-0.3182]\n",
            " [ 0.1943]\n",
            " [-0.1156]]\n",
            "\n",
            "pattern 2\n",
            "-0.11758\n",
            "error: 0.42936\n",
            "[[-0.3102]\n",
            " [ 0.1783]\n",
            " [-0.1103]]\n",
            "\n",
            "Final weights [[-0.3102]\n",
            " [ 0.1783]\n",
            " [-0.1103]]\n"
          ]
        }
      ]
    },
    {
      "cell_type": "code",
      "source": [],
      "metadata": {
        "id": "h9hG455xf9mt"
      },
      "execution_count": null,
      "outputs": []
    }
  ]
}