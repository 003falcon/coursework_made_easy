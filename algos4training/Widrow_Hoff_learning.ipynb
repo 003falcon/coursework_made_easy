{
  "nbformat": 4,
  "nbformat_minor": 0,
  "metadata": {
    "colab": {
      "provenance": [],
      "authorship_tag": "ABX9TyPh5AoU367kMfcsR35IoBBa",
      "include_colab_link": true
    },
    "kernelspec": {
      "name": "python3",
      "display_name": "Python 3"
    },
    "language_info": {
      "name": "python"
    }
  },
  "cells": [
    {
      "cell_type": "markdown",
      "metadata": {
        "id": "view-in-github",
        "colab_type": "text"
      },
      "source": [
        "<a href=\"https://colab.research.google.com/github/003falcon/coursework_made_easy/blob/main/algos4training/Widrow_Hoff_learning.ipynb\" target=\"_parent\"><img src=\"https://colab.research.google.com/assets/colab-badge.svg\" alt=\"Open In Colab\"/></a>"
      ]
    },
    {
      "cell_type": "code",
      "source": [
        "import numpy as np"
      ],
      "metadata": {
        "id": "TrPQYU3sGwRh"
      },
      "execution_count": 6,
      "outputs": []
    },
    {
      "cell_type": "code",
      "source": [
        "# X1=np.array([8 ,2]).reshape(-1,1)\n",
        "X1=np.array([6 ,3]).reshape(-1,1)\n",
        "X=np.array([X1])\n",
        "d=[2]\n",
        "lr=0.1\n",
        "# w=np.array([0.1,0.5]).reshape(-1,1)\n",
        "w=np.array([0.2,0.6]).reshape(-1,1)\n",
        "iter=1"
      ],
      "metadata": {
        "id": "mnYAqGSFG2aO"
      },
      "execution_count": 8,
      "outputs": []
    },
    {
      "cell_type": "code",
      "execution_count": 9,
      "metadata": {
        "colab": {
          "base_uri": "https://localhost:8080/"
        },
        "id": "49VUu2k_ohP5",
        "outputId": "3c90e0f7-8cea-4291-d083-cda7a0998605"
      },
      "outputs": [
        {
          "output_type": "stream",
          "name": "stdout",
          "text": [
            "iteration 1\n",
            "\n",
            "pattern 1\n",
            "[[-0.4]\n",
            " [ 0.3]]\n",
            "\n",
            "Final weights [[-0.4]\n",
            " [ 0.3]]\n"
          ]
        }
      ],
      "source": [
        "for i in range(iter):\n",
        "  print(f\"iteration {i+1}\\n\")\n",
        "  for j in range(X.shape[0]):\n",
        "    print(f\"pattern {j+1}\")\n",
        "    o1=np.round(w.T.dot(X[j]),4)\n",
        "    # print(o1[0][0])\n",
        "    error=np.round(d[j]-o1[0][0],4)\n",
        "\n",
        "    del_w=np.round(lr*error*X[j],4)\n",
        "    w_new=w+del_w\n",
        "    w=np.round(w_new,4)\n",
        "    print(w)\n",
        "    print()\n",
        "print(f\"Final weights {w}\")"
      ]
    },
    {
      "cell_type": "code",
      "source": [],
      "metadata": {
        "id": "5DRf-DKapQBf"
      },
      "execution_count": null,
      "outputs": []
    }
  ]
}